{
  "cells": [
    {
      "cell_type": "markdown",
      "metadata": {
        "id": "view-in-github",
        "colab_type": "text"
      },
      "source": [
        "<a href=\"https://colab.research.google.com/github/NehaKumari500092077/Simulation/blob/main/randomNumber.ipynb\" target=\"_parent\"><img src=\"https://colab.research.google.com/assets/colab-badge.svg\" alt=\"Open In Colab\"/></a>"
      ]
    },
    {
      "cell_type": "markdown",
      "source": [
        "Random Number Generation"
      ],
      "metadata": {
        "id": "8IbyE3Wr2-RQ"
      }
    },
    {
      "cell_type": "markdown",
      "source": [
        "1. Use the mixed congruential method to generate a sequence of three 2-digit random numbers with X0 = 37, a = 7, c = 29 and M = 100."
      ],
      "metadata": {
        "id": "9OyUlbvb3QI3"
      }
    },
    {
      "cell_type": "code",
      "source": [
        "def countdigit(n):\n",
        "  count=0\n",
        "  while(n>0):\n",
        "    count=count+1\n",
        "    n=n/10\n",
        "    if(count >1):\n",
        "      return count\n",
        "  return 0\n",
        "\n",
        "\n",
        "\n",
        "random_no = list()\n",
        "X0 = 37\n",
        "A = 7\n",
        "C = 29\n",
        "M = 100\n",
        "d_count = 0\n",
        "i = 0\n",
        "random_no.append((X0 * A + C) % M)\n",
        "if(countdigit(random_no[i]) > 1):\n",
        "  d_count = d_count + 1\n",
        "\n",
        "while(d_count < 3):\n",
        "  X = random_no[i]\n",
        "  random_no.append((X * A + C) % M)\n",
        "  i = i + 1\n",
        "  if(countdigit(random_no[i]) > 1):\n",
        "    d_count = d_count + 1\n",
        "  if(d_count == 3):\n",
        "    print(random_no)\n",
        "    break"
      ],
      "metadata": {
        "colab": {
          "base_uri": "https://localhost:8080/"
        },
        "id": "4zBpKft7_4Ri",
        "outputId": "09d42bfe-0192-48e1-bce8-7c17c8418e26"
      },
      "execution_count": 2,
      "outputs": [
        {
          "output_type": "stream",
          "name": "stdout",
          "text": [
            "[88, 45, 44]\n"
          ]
        }
      ]
    },
    {
      "cell_type": "markdown",
      "source": [
        "2. Generate random numbers using multiplicative congruential method with X0 = 5, a = 11 and M = 64."
      ],
      "metadata": {
        "id": "hu8uPDmt4pm1"
      }
    },
    {
      "cell_type": "code",
      "source": [
        "\n",
        "random_no = list()\n",
        "max_cycle = set()\n",
        "X0 = 5\n",
        "A = 11\n",
        "C = 0\n",
        "M = 64\n",
        "i = 0\n",
        "random_no.append((X0 * A + C) % M)\n",
        "max_cycle.add(random_no[i])\n",
        "\n",
        "while(len(random_no) == len(max_cycle)):\n",
        "  X = random_no[i]\n",
        "  random_no.append((X * A + C) % M)\n",
        "  i = i + 1\n",
        "  max_cycle.add(random_no[i])\n",
        " \n",
        "print(max_cycle)"
      ],
      "metadata": {
        "id": "f63tkM0O5C_2",
        "outputId": "107969f1-0558-4c04-a118-f463812091e8",
        "colab": {
          "base_uri": "https://localhost:8080/"
        }
      },
      "execution_count": 30,
      "outputs": [
        {
          "output_type": "stream",
          "name": "stdout",
          "text": [
            "{37, 5, 7, 39, 13, 45, 15, 47, 61, 23, 53, 21, 55, 31, 29, 63}\n"
          ]
        }
      ]
    },
    {
      "cell_type": "markdown",
      "source": [
        "3. Generate a sequence of random numbers and identify maximum period for a = 13, M = 6, X0 = 1, 3 and 4."
      ],
      "metadata": {
        "id": "wRZ5W1AC5Dko"
      }
    },
    {
      "cell_type": "code",
      "source": [
        "def generateRandomNo(X0, A, C, M):\n",
        "  random_no = list()\n",
        "  max_cycle = set()\n",
        "  j = 0\n",
        "  random_no.append((X0 * A + C) % M)\n",
        "  max_cycle.add(random_no[j])\n",
        "\n",
        "  while(len(random_no) == len(max_cycle)):\n",
        "    X = random_no[j]\n",
        "    random_no.append((X * A + C) % M)\n",
        "    j = j + 1\n",
        "    max_cycle.add(random_no[j])\n",
        " \n",
        "  print(max_cycle)\n",
        "\n",
        "\n",
        "X0 = [1, 3, 4]\n",
        "A = 13\n",
        "C = 0\n",
        "M = 26\n",
        "i = 0\n",
        "length = len(X0)\n",
        "while(length != 0):\n",
        "  length = length - 1\n",
        "  generateRandomNo(X0[i], A, C, M)\n",
        "  i = i + 1\n",
        "\n"
      ],
      "metadata": {
        "id": "MiGSeubN5z3D",
        "outputId": "ee7cc60a-96b4-4c9a-f79d-9c59160e7f19",
        "colab": {
          "base_uri": "https://localhost:8080/"
        }
      },
      "execution_count": 29,
      "outputs": [
        {
          "output_type": "stream",
          "name": "stdout",
          "text": [
            "{13}\n",
            "{13}\n",
            "{0}\n"
          ]
        }
      ]
    },
    {
      "cell_type": "markdown",
      "source": [
        "4. Generate sequence of 10 random integers for X0 = 63, a = 19, c = 0 and M = 100."
      ],
      "metadata": {
        "id": "2RTuQUEo50MY"
      }
    },
    {
      "cell_type": "code",
      "source": [
        "random_no = list()\n",
        "max_cycle = set()\n",
        "X0 = 63\n",
        "A = 19\n",
        "C = 0\n",
        "M = 100\n",
        "i = 0\n",
        "random_no.append((X0 * A + C) % M)\n",
        "max_cycle.add(random_no[i])\n",
        "\n",
        "while(len(random_no) == len(max_cycle)):\n",
        "  X = random_no[i]\n",
        "  random_no.append((X * A + C) % M)\n",
        "  i = i + 1\n",
        "  max_cycle.add(random_no[i])\n",
        " \n",
        "print(max_cycle)"
      ],
      "metadata": {
        "id": "uNf5QRkc6clc",
        "outputId": "805052e0-731a-4ba2-8f55-0995479851ea",
        "colab": {
          "base_uri": "https://localhost:8080/"
        }
      },
      "execution_count": 28,
      "outputs": [
        {
          "output_type": "stream",
          "name": "stdout",
          "text": [
            "{97, 3, 37, 43, 77, 17, 83, 23, 57, 63}\n"
          ]
        }
      ]
    }
  ],
  "metadata": {
    "colab": {
      "collapsed_sections": [],
      "name": "Welcome To Colaboratory",
      "toc_visible": true,
      "provenance": [],
      "include_colab_link": true
    },
    "kernelspec": {
      "display_name": "Python 3",
      "name": "python3"
    }
  },
  "nbformat": 4,
  "nbformat_minor": 0
}
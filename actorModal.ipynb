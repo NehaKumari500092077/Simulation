{
  "cells": [
    {
      "cell_type": "markdown",
      "metadata": {
        "id": "view-in-github",
        "colab_type": "text"
      },
      "source": [
        "<a href=\"https://colab.research.google.com/github/NehaKumari500092077/Simulation/blob/main/actorModal.ipynb\" target=\"_parent\"><img src=\"https://colab.research.google.com/assets/colab-badge.svg\" alt=\"Open In Colab\"/></a>"
      ]
    },
    {
      "cell_type": "markdown",
      "source": [
        "Actor Based Modal"
      ],
      "metadata": {
        "id": "wb3Xg3POvn0U"
      }
    },
    {
      "cell_type": "code",
      "source": [
        "\n",
        "from thespian.actors import Actor,ActorExitRequest,ActorSystem\n",
        "\n",
        "\n",
        "\n",
        "class Greeting(object):\n",
        "    def __init__(self, msg):\n",
        "        self.message = msg\n",
        "    def __str__(self):\n",
        "        return self.message\n",
        "\n",
        "class Hello(Actor):\n",
        "    def receiveMessage(self, message, sender):\n",
        "        if message == 'hi':\n",
        "            greeting = Greeting('Hello')\n",
        "            world = self.createActor(World)\n",
        "            punct = self.createActor(Punctuate)\n",
        "            greeting.sendTo = [punct, sender]\n",
        "            self.send(world, greeting)\n",
        "\n",
        "class World(Actor):\n",
        "    def receiveMessage(self, message, sender):\n",
        "        if isinstance(message, Greeting):\n",
        "            message.message = message.message + \", Om\"\n",
        "            nextTo = message.sendTo.pop(0)\n",
        "            self.send(nextTo, message)\n",
        "\n",
        "class Punctuate(Actor):\n",
        "    def receiveMessage(self, message, sender):\n",
        "        if isinstance(message, Greeting):\n",
        "            message.message = message.message + \"!\"\n",
        "            nextTo = message.sendTo.pop(0)\n",
        "            self.send(nextTo, message)\n",
        "\n",
        "if __name__ == \"__main__\":\n",
        "    hello = ActorSystem().createActor(Hello)\n",
        "    print(ActorSystem().ask(hello, 'hi', 0.2))\n",
        "    print(ActorSystem().ask(hello, 'hi', 0.2))\n",
        "    ActorSystem().tell(hello, ActorExitRequest())\n",
        "    print(ActorSystem().ask(hello, 'hi', 0.2))\n",
        "    \n",
        "            \n",
        "\n",
        "  "
      ],
      "metadata": {
        "id": "L-kqqnWevqa0",
        "outputId": "cf2b55ae-1d3b-4932-c618-a87843f09d4d",
        "colab": {
          "base_uri": "https://localhost:8080/"
        }
      },
      "execution_count": 10,
      "outputs": [
        {
          "output_type": "stream",
          "name": "stdout",
          "text": [
            "Hello, Om!\n",
            "Hello, Om!\n",
            "None\n"
          ]
        }
      ]
    },
    {
      "cell_type": "code",
      "source": [
        "pip install thespian\n"
      ],
      "metadata": {
        "id": "6qCS9B3DZROw",
        "outputId": "eb1fad1b-bd27-43c7-e744-e96b8d1b7e9d",
        "colab": {
          "base_uri": "https://localhost:8080/"
        }
      },
      "execution_count": 9,
      "outputs": [
        {
          "output_type": "stream",
          "name": "stdout",
          "text": [
            "Collecting thespian\n",
            "  Downloading thespian-3.10.6.zip (503 kB)\n",
            "\u001b[K     |████████████████████████████████| 503 kB 8.3 MB/s \n",
            "\u001b[?25hBuilding wheels for collected packages: thespian\n",
            "  Building wheel for thespian (setup.py) ... \u001b[?25l\u001b[?25hdone\n",
            "  Created wheel for thespian: filename=thespian-3.10.6-py3-none-any.whl size=273696 sha256=41be440a86422d6cf6fbb01534be944ca5b1aebf870b7812c8c8a7561b597f45\n",
            "  Stored in directory: /root/.cache/pip/wheels/03/41/d8/8d0892a6ecef8661a8a4ddd60230a05f599973df5ee4fc262e\n",
            "Successfully built thespian\n",
            "Installing collected packages: thespian\n",
            "Successfully installed thespian-3.10.6\n"
          ]
        }
      ]
    }
  ],
  "metadata": {
    "colab": {
      "collapsed_sections": [],
      "name": "Welcome To Colaboratory",
      "toc_visible": true,
      "provenance": [],
      "include_colab_link": true
    },
    "kernelspec": {
      "display_name": "Python 3",
      "name": "python3"
    }
  },
  "nbformat": 4,
  "nbformat_minor": 0
}
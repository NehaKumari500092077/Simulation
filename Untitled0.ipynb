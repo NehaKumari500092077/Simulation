{
  "nbformat": 4,
  "nbformat_minor": 0,
  "metadata": {
    "colab": {
      "name": "Untitled0.ipynb",
      "provenance": [],
      "collapsed_sections": []
    },
    "kernelspec": {
      "name": "python3",
      "display_name": "Python 3"
    },
    "language_info": {
      "name": "python"
    }
  },
  "cells": [
    {
      "cell_type": "code",
      "execution_count": 1,
      "metadata": {
        "colab": {
          "base_uri": "https://localhost:8080/"
        },
        "id": "UAD6jrr7IjYy",
        "outputId": "8972bd8a-8ca2-46a1-87f1-b77b353026c1"
      },
      "outputs": [
        {
          "output_type": "stream",
          "name": "stdout",
          "text": [
            "     Category  Time_equired(min)   pdf\n",
            "0     Filling               45.0   NaN\n",
            "1       Crown               60.0   NaN\n",
            "2    Cleaning               15.0   NaN\n",
            "3  Extracting               45.0   NaN\n",
            "4     Checkup               15.0   NaN\n",
            "5         NaN                NaN  56.0\n"
          ]
        }
      ],
      "source": [
        "import pandas as pd\n",
        "\n",
        "#a ={'Category': ['Filling', 'Crown', 'Cleaning', 'Extracting', 'Checkup'], \n",
        "#    'Schedule_arrival': [' '], 'Time_equired(min)': [45, 60, 15, 45, 15], \n",
        " #   'Service_start': [' '], 'Service_end': [' '], 'No_of_Patients': [' '], \n",
        " #   'Probability': [' '], 'Cumulative_Prob.': [' '], 'Range': [' '],\n",
        "#    'Random_no': [' '], 'Waiting_time': [' '], 'Idle_time': [' ']}\n",
        "\n",
        "a={'Category': ['Filling', 'Crown', 'Cleaning', 'Extracting', 'Checkup'],\n",
        "   'Time_equired(min)': [45, 60, 15, 45, 15]}\n",
        "b = pd.DataFrame(a) \n",
        "b.at[5, 'pdf']= int(56)\n",
        "print(b)"
      ]
    }
  ]
}
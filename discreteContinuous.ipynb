{
  "cells": [
    {
      "cell_type": "markdown",
      "metadata": {
        "id": "view-in-github",
        "colab_type": "text"
      },
      "source": [
        "<a href=\"https://colab.research.google.com/github/NehaKumari500092077/Simulation/blob/main/discreteContinuous.ipynb\" target=\"_parent\"><img src=\"https://colab.research.google.com/assets/colab-badge.svg\" alt=\"Open In Colab\"/></a>"
      ]
    },
    {
      "cell_type": "markdown",
      "source": [
        "Discrete and Continuous distribution"
      ],
      "metadata": {
        "id": "nG8HNffKh1SN"
      }
    },
    {
      "cell_type": "markdown",
      "source": [
        "1. In a amusement fair, a competitor is entitled for a prize if he throw a ring on a peg from a certain distance. it is observed that only 30% of the competitors are able to do this. If someone is given 5 chances,\n",
        "i). what is the probability of his winning the prize when he has already missed 4 chances?"
      ],
      "metadata": {
        "id": "FSfDxKOoiFXW"
      }
    },
    {
      "cell_type": "code",
      "source": [
        "from scipy.stats import geom\n",
        "p=0.3;\n",
        "x=5;\n",
        "pd = geom.pmf(x,p);\n",
        "\n",
        "print(\"probability: \",round(pd,4));"
      ],
      "metadata": {
        "id": "6psFuWc8kIl6",
        "outputId": "03e646c4-634b-49d1-ce80-58999ab351b5",
        "colab": {
          "base_uri": "https://localhost:8080/"
        }
      },
      "execution_count": 31,
      "outputs": [
        {
          "output_type": "stream",
          "name": "stdout",
          "text": [
            "probability:  0.072\n"
          ]
        }
      ]
    },
    {
      "cell_type": "markdown",
      "source": [
        "ii). Plot the pmf and cdf. for X=1,2,..........,10.\n"
      ],
      "metadata": {
        "id": "cXmM-DsZkaXL"
      }
    },
    {
      "cell_type": "code",
      "source": [
        "import matplotlib.pyplot as plt\n",
        "from scipy.stats import geom\n",
        "\n",
        "p=0.3;\n",
        "x=10;\n",
        "x = list(range(x+1));\n",
        "del x[0 : 1];\n",
        "gd = [geom.pmf(i, p) for i in x ];\n",
        "cd = [geom.cdf(i, p) for i in x ];\n",
        "print(\"pmf\", gd)\n",
        "print(\"\\nprobability distribution\");\n",
        "plt.bar(x, gd);\n",
        "plt.show();\n",
        "print(\"\\ncdf\", cd)\n",
        "print(\"\\ncumulative probability distribution\");\n",
        "plt.bar(x, cd);\n",
        "plt.show();"
      ],
      "metadata": {
        "id": "SAdNUdIZkfru",
        "outputId": "b0029c79-fd38-4480-c5a5-a39c3017b0ea",
        "colab": {
          "base_uri": "https://localhost:8080/",
          "height": 658
        }
      },
      "execution_count": 35,
      "outputs": [
        {
          "output_type": "stream",
          "name": "stdout",
          "text": [
            "pmf [0.3, 0.21, 0.14699999999999996, 0.10289999999999998, 0.07202999999999998, 0.05042099999999998, 0.035294699999999984, 0.02470628999999999, 0.01729440299999999, 0.012106082099999993]\n",
            "\n",
            "probability distribution\n"
          ]
        },
        {
          "output_type": "display_data",
          "data": {
            "text/plain": [
              "<Figure size 432x288 with 1 Axes>"
            ],
            "image/png": "[encoded data removed]"
          },
          "metadata": {
            "needs_background": "light"
          }
        },
        {
          "output_type": "stream",
          "name": "stdout",
          "text": [
            "\n",
            "cdf [0.3, 0.51, 0.6569999999999999, 0.7599, 0.83193, 0.8823509999999999, 0.9176457, 0.94235199, 0.959646393, 0.9717524751]\n",
            "\n",
            "cumulative probability distribution\n"
          ]
        },
        {
          "output_type": "display_data",
          "data": {
            "text/plain": [
              "<Figure size 432x288 with 1 Axes>"
            ],
            "image/png": "[encoded data removed]"
          },
          "metadata": {
            "needs_background": "light"
          }
        }
      ]
    },
    {
      "cell_type": "markdown",
      "source": [
        "2. Your name is Akshat and you are an expert penalty goal shooter. Your success rate has been measured at 80%. Thus, p = 0.8 and q = 0.2. You take n = 10 shots on goal, so the possible values of X (the number of successes) are 0, 1, 2, 3, 4, 5,………….., 10. Calculate the probability for each value of X. Plot the probability distribution and cumulative probability distribution."
      ],
      "metadata": {
        "id": "xwuPZNLAlGJG"
      }
    },
    {
      "cell_type": "code",
      "source": [
        "from scipy.stats import binom\n",
        "import matplotlib.pyplot as plt\n",
        "\n",
        "n = 10;\n",
        "p = 0.8;\n",
        "r_values = list(range(n + 1));\n",
        "pd = [binom.pmf(i, n, p) for i in r_values ];\n",
        "\n",
        "print(\"X\" + \"\\t\" + \"Probability distribution\");\n",
        "for i in range(n + 1):\n",
        "  print(str(i) + \"\\t\" + str(pd[i]));\n",
        "\n",
        "cd = [];\n",
        "for i in range(n+1):\n",
        "  cd.append(0);\n",
        "for i in range(n+1):\n",
        "  for j in range(i+1):\n",
        "    cd[i] = cd[i]+pd[j];\n",
        "\n",
        "print(\"\\nprobability distribution\");\n",
        "plt.bar(r_values, pd);\n",
        "plt.show();\n",
        "print(\"X\" + \"\\t\" + \"cumulative probability distribution\");\n",
        "for i in range(n + 1):\n",
        "  print(str(i) + \"\\t\" + str(cd[i]));\n",
        "print(\"\\ncumulative probability distribution\");\n",
        "plt.bar(r_values, cd);\n",
        "plt.show();"
      ],
      "metadata": {
        "id": "6ALlqZVFlcHo",
        "outputId": "93658b98-82f7-4bf1-c0fb-7f57a38083b3",
        "colab": {
          "base_uri": "https://localhost:8080/",
          "height": 1000
        }
      },
      "execution_count": 39,
      "outputs": [
        {
          "output_type": "stream",
          "name": "stdout",
          "text": [
            "X\tProbability distribution\n",
            "0\t1.0240000000000004e-07\n",
            "1\t4.096000000000007e-06\n",
            "2\t7.372799999999991e-05\n",
            "3\t0.0007864319999999992\n",
            "4\t0.005505024000000001\n",
            "5\t0.02642411520000004\n",
            "6\t0.08808038400000004\n",
            "7\t0.20132659200000014\n",
            "8\t0.301989888\n",
            "9\t0.26843545600000035\n",
            "10\t0.10737418240000005\n",
            "\n",
            "probability distribution\n"
          ]
        },
        {
          "output_type": "display_data",
          "data": {
            "text/plain": [
              "<Figure size 432x288 with 1 Axes>"
            ],
            "image/png": "[encoded data removed]"
          },
          "metadata": {
            "needs_background": "light"
          }
        },
        {
          "output_type": "stream",
          "name": "stdout",
          "text": [
            "X\tcumulative probability distribution\n",
            "0\t1.0240000000000004e-07\n",
            "1\t4.198400000000007e-06\n",
            "2\t7.792639999999992e-05\n",
            "3\t0.0008643583999999991\n",
            "4\t0.0063693824\n",
            "5\t0.03279349760000004\n",
            "6\t0.12087388160000008\n",
            "7\t0.3222004736000002\n",
            "8\t0.6241903616000002\n",
            "9\t0.8926258176000006\n",
            "10\t1.0000000000000007\n",
            "\n",
            "cumulative probability distribution\n"
          ]
        },
        {
          "output_type": "display_data",
          "data": {
            "text/plain": [
              "<Figure size 432x288 with 1 Axes>"
            ],
            "image/png": "[encoded data removed]"
          },
          "metadata": {
            "needs_background": "light"
          }
        }
      ]
    },
    {
      "cell_type": "markdown",
      "source": [
        ""
      ],
      "metadata": {
        "id": "QdHPej1vmbIM"
      }
    },
    {
      "cell_type": "markdown",
      "source": [
        "3. A life insurance salesman sells on the average 3 life insurence policies per week. Use Poisson's law to calculate the probability that in a given week he will sell i) Some policies."
      ],
      "metadata": {
        "id": "leSbMVKupquC"
      }
    },
    {
      "cell_type": "code",
      "source": [
        "from scipy.stats import poisson\n",
        "mu=3;\n",
        "event=0;\n",
        "pd = poisson.pmf(event, mu);\n",
        "result = 1 - pd\n",
        "\n",
        "print(\"probability: \",round(result,4));"
      ],
      "metadata": {
        "id": "tV0k9IlPp6Ey",
        "outputId": "5cb39514-1500-453f-dab4-ccbc939de3af",
        "colab": {
          "base_uri": "https://localhost:8080/"
        }
      },
      "execution_count": 40,
      "outputs": [
        {
          "output_type": "stream",
          "name": "stdout",
          "text": [
            "probability:  0.9502\n"
          ]
        }
      ]
    },
    {
      "cell_type": "markdown",
      "source": [
        "ii). plot the pmf and cdf"
      ],
      "metadata": {
        "id": "IqFLVT-cp-UN"
      }
    },
    {
      "cell_type": "code",
      "source": [
        "import matplotlib.pyplot as plt\n",
        "from scipy.stats import poisson\n",
        "\n",
        "mu=3;\n",
        "event=5;\n",
        "x = list(range(event));\n",
        "del x[0 : 2];\n",
        "\n",
        "pd = [poisson.pmf(i, mu) for i in x ];\n",
        "cd = [poisson.cdf(i, mu) for i in x ];\n",
        "print(\"pmf\", pd);\n",
        "print(\"\\nprobability distribution\");\n",
        "plt.bar(x, pd);\n",
        "plt.show();\n",
        "print(\"cdf\", cd);\n",
        "print(\"\\ncumulative probability distribution\");\n",
        "plt.bar(x, cd);\n",
        "plt.show();"
      ],
      "metadata": {
        "id": "VQtilA9OqFEf",
        "outputId": "946fbc46-2191-41d1-f9ee-f2bacf459a7a",
        "colab": {
          "base_uri": "https://localhost:8080/",
          "height": 620
        }
      },
      "execution_count": 44,
      "outputs": [
        {
          "output_type": "stream",
          "name": "stdout",
          "text": [
            "pmf [0.22404180765538775, 0.22404180765538775, 0.16803135574154085]\n",
            "\n",
            "probability distribution\n"
          ]
        },
        {
          "output_type": "display_data",
          "data": {
            "text/plain": [
              "<Figure size 432x288 with 1 Axes>"
            ],
            "image/png": "[encoded data removed]"
          },
          "metadata": {
            "needs_background": "light"
          }
        },
        {
          "output_type": "stream",
          "name": "stdout",
          "text": [
            "cdf [0.42319008112684364, 0.6472318887822313, 0.8152632445237722]\n",
            "\n",
            "cumulative probability distribution\n"
          ]
        },
        {
          "output_type": "display_data",
          "data": {
            "text/plain": [
              "<Figure size 432x288 with 1 Axes>"
            ],
            "image/png": "[encoded data removed]"
          },
          "metadata": {
            "needs_background": "light"
          }
        }
      ]
    },
    {
      "cell_type": "markdown",
      "source": [
        "4. Robert is a football player. His success rate of goal hitting is 70%. \n",
        "i).What is the probability that Robert hits his third goal on his fifth attempt?"
      ],
      "metadata": {
        "id": "pBWcEqMorJ3g"
      }
    },
    {
      "cell_type": "code",
      "source": [
        "from scipy.stats import nbinom\n",
        "n = 3;\n",
        "p = 0.7;\n",
        "x = 5 - n;\n",
        "mean, var = nbinom.stats(n, p);\n",
        "pmf = nbinom.pmf(x, n, p);\n",
        "cdf = nbinom.cdf(x, n, p)\n",
        "print(\"probability: \",round(pmf,4), cdf);"
      ],
      "metadata": {
        "id": "QAAXGXsBsQvS",
        "outputId": "9c227418-0104-4a53-f73d-5ce46235fc4d",
        "colab": {
          "base_uri": "https://localhost:8080/"
        }
      },
      "execution_count": 46,
      "outputs": [
        {
          "output_type": "stream",
          "name": "stdout",
          "text": [
            "probability:  0.1852 0.8369199999999999\n"
          ]
        }
      ]
    },
    {
      "cell_type": "markdown",
      "source": [
        "ii). Plot pmf and cdf"
      ],
      "metadata": {
        "id": "wGOnR5HXzpKd"
      }
    },
    {
      "cell_type": "code",
      "source": [
        "import matplotlib.pyplot as plt\n",
        "from scipy.stats import nbinom\n",
        "n = 3;\n",
        "p = 0.7;\n",
        "X = list(range(2));\n",
        "\n",
        "pd = [nbinom.pmf(x, n, p) for x in X ];\n",
        "cd = [nbinom.cdf(x, n, p) for x in X ];\n",
        "print(\"pmf\", pd);\n",
        "print(\"\\nprobability distribution\");\n",
        "plt.bar(x, pd);\n",
        "plt.show();\n",
        "print(\"cdf\", cd);\n",
        "print(\"\\ncumulative probability distribution\");\n",
        "plt.bar(x, cd);\n",
        "plt.show();"
      ],
      "metadata": {
        "id": "cOLQqcquzswO",
        "outputId": "59578e33-5cef-41b8-903c-711a6e575766",
        "colab": {
          "base_uri": "https://localhost:8080/",
          "height": 620
        }
      },
      "execution_count": 54,
      "outputs": [
        {
          "output_type": "stream",
          "name": "stdout",
          "text": [
            "pmf [0.3429999999999999, 0.3086999999999999]\n",
            "\n",
            "probability distribution\n"
          ]
        },
        {
          "output_type": "display_data",
          "data": {
            "text/plain": [
              "<Figure size 432x288 with 1 Axes>"
            ],
            "image/png": "[encoded data removed]"
          },
          "metadata": {
            "needs_background": "light"
          }
        },
        {
          "output_type": "stream",
          "name": "stdout",
          "text": [
            "cdf [0.3429999999999999, 0.6517]\n",
            "\n",
            "cumulative probability distribution\n"
          ]
        },
        {
          "output_type": "display_data",
          "data": {
            "text/plain": [
              "<Figure size 432x288 with 1 Axes>"
            ],
            "image/png": "[encoded data removed]"
          },
          "metadata": {
            "needs_background": "light"
          }
        }
      ]
    }
  ],
  "metadata": {
    "colab": {
      "collapsed_sections": [],
      "name": "Welcome To Colaboratory",
      "toc_visible": true,
      "provenance": [],
      "include_colab_link": true
    },
    "kernelspec": {
      "display_name": "Python 3",
      "name": "python3"
    }
  },
  "nbformat": 4,
  "nbformat_minor": 0
}